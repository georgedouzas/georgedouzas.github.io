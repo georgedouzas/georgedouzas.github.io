{
  "cells": [
    {
      "cell_type": "raw",
      "metadata": {},
      "source": [
        "---\n",
        "title: An Introduction to Statistical Learning\n",
        "description: A detailed presentation of statistical and machine learning approaches.\n",
        "author: Georgios Douzas\n",
        "date: 2023-06-022\n",
        "categories:\n",
        "  - Artificial Intelligence\n",
        "  - Textbook\n",
        "  - Review\n",
        "image: featured.png\n",
        "draft: true\n",
        "---"
      ],
      "id": "aadae055"
    },
    {
      "cell_type": "markdown",
      "metadata": {},
      "source": [
        "![](featured.png)\n",
        "\n",
        "# Introduction\n",
        "\n",
        "Statistical learning methods can be classified as supervised or unsupervised.\n",
        "\n",
        "- Supervised learning models predict an output based on one or more inputs.\n",
        "\n",
        "- Unsupervised learning models learn relationships and structure from data.\n",
        "\n",
        "The following notation is used:\n",
        "\n",
        "- $n$ represents the number of samples and $p$ denotes the number of variables\n",
        "\n",
        "- $\\mathbf{X}$ is th input matrix\n",
        "\n",
        "$$\\mathbf{X}=\\left(\\begin{array}{cccc}x_{11} & x_{12} & \\ldots & x_{1 p} \\\\ x_{21} & x_{22} & \\ldots & x_{2 p} \\\\ \\vdots & \\vdots & \\ddots & \\vdots \\\\ x_{n 1} & x_{n 2} & \\ldots & x_{n p}\\end{array}\\right)$$\n",
        "\n",
        "- $\\mathbf{y}$ is the output vector:\n",
        "\n",
        "$$\\mathbf{y}=\\left(\\begin{array}{c}y_1 \\\\ y_2 \\\\ \\vdots \\\\ y_n\\end{array}\\right)$$\n",
        "\n",
        "## Examples\n",
        "\n",
        "### Wage\n",
        "\n",
        "The **Wage** is predicted from **Age**, **Year** and **Education**.\n"
      ],
      "id": "1ff246e4"
    },
    {
      "cell_type": "code",
      "metadata": {},
      "source": [
        "# Load data\n",
        "from ISLP import load_data\n",
        "wage_data = load_data('Wage')\n",
        "wage_data.rename(columns={col: col.title() for col in wage_data.columns}, inplace=True)\n",
        "wage_data['Education'] = wage_data['Education'].cat.rename_categories(lambda c: c[0])\n",
        "\n",
        "# Plot Wage vs Age, Year and Education\n",
        "import seaborn as sns\n",
        "import matplotlib.pyplot as plt\n",
        "fig, (ax1, ax2, ax3) = plt.subplots(ncols=3, sharey=True, figsize=(9.5, 5))\n",
        "sns.scatterplot(data=wage_data, x='Age', y='Wage', ax=ax1)\n",
        "sns.scatterplot(data=wage_data, x='Year', y='Wage', ax=ax2)\n",
        "sns.boxplot(data=wage_data, x='Education', y='Wage', ax=ax3)"
      ],
      "id": "a1b8c288",
      "execution_count": null,
      "outputs": []
    },
    {
      "cell_type": "markdown",
      "metadata": {},
      "source": [
        "### Stock market\n",
        "\n",
        "The goal is to predict whether or not the index will increase or decrease on a given day, using the  past day's pecentage changes\n",
        "in the index.\n"
      ],
      "id": "a1f1115c"
    },
    {
      "cell_type": "code",
      "metadata": {},
      "source": [
        "# Load data\n",
        "smarket_data = load_data('Smarket')\n",
        "smarket_data.rename(columns={'Direction': 'Today’s Direction'}, inplace=True)\n",
        "\n",
        "# Plot previous day’s percentage change\n",
        "fig, (ax1, ax2, ax3) = plt.subplots(ncols=3, sharey=True, figsize=(9.5, 5))\n",
        "ax1.set_title('Yesterday')\n",
        "ax2.set_title('Two Days Previous')\n",
        "ax3.set_title('Three Days Previous')\n",
        "palette = {'Down': 'blue', 'Up': 'red'}\n",
        "sns.boxplot(data=smarket_data.rename(columns={'Lag1': 'Percentage change in S&P'}), x='Today’s Direction', hue='Today’s Direction', y='Percentage change in S&P', ax=ax1, order=['Down', 'Up'], palette=palette)\n",
        "sns.boxplot(data=smarket_data.rename(columns={'Lag2': 'Percentage change in S&P'}), x='Today’s Direction', hue='Today’s Direction', y='Percentage change in S&P', ax=ax2, order=['Down', 'Up'], palette=palette)\n",
        "sns.boxplot(data=smarket_data.rename(columns={'Lag3': 'Percentage change in S&P'}), x='Today’s Direction', hue='Today’s Direction', y='Percentage change in S&P', ax=ax3, order=['Down', 'Up'], palette=palette)"
      ],
      "id": "f340a483",
      "execution_count": null,
      "outputs": []
    },
    {
      "cell_type": "code",
      "metadata": {},
      "source": [
        "# Split data\n",
        "smarket_data['y'] = (smarket_data['Today’s Direction'] == 'Down').astype(int)\n",
        "train_mask = smarket_data['Year'] != 2005\n",
        "train_data = smarket_data[train_mask].copy()\n",
        "test_data = smarket_data[~train_mask].copy()\n",
        "input_cols = ['Lag1', 'Lag2']\n",
        "X_train, y_train = train_data[input_cols], train_data['y']\n",
        "X_test, y_test = test_data[input_cols], test_data['y']\n",
        "\n",
        "# Fit model\n",
        "from sklearn.discriminant_analysis import QuadraticDiscriminantAnalysis\n",
        "classifier = QuadraticDiscriminantAnalysis()\n",
        "classifier.fit(X_train, y_train)\n",
        "\n",
        "# Import accuracy score\n",
        "from sklearn.metrics import accuracy_score"
      ],
      "id": "3974fa67",
      "execution_count": null,
      "outputs": []
    },
    {
      "cell_type": "code",
      "metadata": {},
      "source": [
        "test_data['Predicted Probability'] = classifier.predict_proba(X_test)[:, 1]\n",
        "sns.boxplot(data=test_data, x='Today’s Direction', hue='Today’s Direction', y='Predicted Probability', order=['Down', 'Up'], palette=palette)"
      ],
      "id": "6e5c38d0",
      "execution_count": null,
      "outputs": []
    },
    {
      "cell_type": "markdown",
      "metadata": {},
      "source": [
        "### Gene expression\n",
        "\n",
        "Each cell line is represented with the first two principal components of the data.\n"
      ],
      "id": "180db975"
    },
    {
      "cell_type": "code",
      "metadata": {},
      "source": [
        "# Load data\n",
        "nci60_data = load_data('NCI60')\n",
        "X, y = nci60_data['data'], nci60_data['labels']\n",
        "\n",
        "# Apply PCA\n",
        "import pandas as pd\n",
        "from sklearn.decomposition import PCA\n",
        "pca = PCA(n_components=2)\n",
        "X_pca = pd.DataFrame(pca.fit_transform(X), columns=['Z1', 'Z2'])\n",
        "X_pca = pd.concat([X_pca, y], axis=1)\n",
        "\n",
        "# Plot data\n",
        "fig, (ax1, ax2) = plt.subplots(ncols=2, sharey=True, figsize=(9.5, 5))\n",
        "sns.scatterplot(data=X_pca, x='Z1', y='Z2', ax=ax1)\n",
        "sns.scatterplot(data=X_pca, x='Z1', y='Z2', hue='label', ax=ax2, legend=None)"
      ],
      "id": "85321466",
      "execution_count": null,
      "outputs": []
    },
    {
      "cell_type": "markdown",
      "metadata": {},
      "source": [
        "# Statistical Learning\n",
        "\n",
        "Let $Y$ a quantitative response and $p$ different predictors, $X = X_{1}, X_{2}, . . . , X_{p}$. Assume that there is some\n",
        "relationship between $Y$ and $X$ with $f$ an unknown function and $\\epsilon$ is a random error term, which is independent of $X$\n",
        "and has mean zero:\n",
        "\n",
        "$$Y=f(X)+\\epsilon$$\n",
        "\n",
        "Statistical learning refers to a set of approaches for estimating $f$ for prediction and inference.\n",
        "\n",
        "$Y$ is predicted  using $\\hat{Y} = \\hat{f}(X)$. The accuracy of $\\hat{Y}$ as a prediction for $Y$ depends on the reducible and\n",
        "irreducible errors:\n",
        "\n",
        "- The reducible error corresponding to the inaccuracy of the estimation of $f$ from $\\hat{f}$.\n",
        "\n",
        "- The irreducible error corresponding to the variability associated with $\\epsilon$.\n",
        "\n",
        "## Examples\n",
        "\n",
        "### Advertising\n",
        "\n",
        "The **Sales** are predicted from **TV**, **Radio**, and **Newspaper** advetising budgets.\n"
      ],
      "id": "6789cf06"
    },
    {
      "cell_type": "code",
      "metadata": {},
      "source": [
        "# Load data\n",
        "\n",
        "import pandas as pd\n",
        "advertising_data = pd.read_csv('data/Advertising.csv', index_col=0)\n",
        "advertising_data.rename(columns={'radio': 'Radio', 'newspaper': 'Newspaper', 'sales': 'Sales'}, inplace=True)\n",
        "\n",
        "# Plot Sales vs TV, Radio and Newspaper\n",
        "import seaborn as sns\n",
        "import matplotlib.pyplot as plt\n",
        "fig, (ax1, ax2, ax3) = plt.subplots(ncols=3, sharey=True, figsize=(9.5, 5))\n",
        "sns.regplot(data=advertising_data, x='TV', y='Sales', ax=ax1, scatter_kws={'color': 'red'})\n",
        "sns.regplot(data=advertising_data, x='Radio', y='Sales', ax=ax2, scatter_kws={'color': 'red'})\n",
        "sns.regplot(data=advertising_data, x='Newspaper', y='Sales', ax=ax3, scatter_kws={'color': 'red'})"
      ],
      "id": "c001fcb0",
      "execution_count": null,
      "outputs": []
    },
    {
      "cell_type": "markdown",
      "metadata": {},
      "source": [
        "### Income\n",
        "\n",
        "The **Income** is predicted from **Years of Education**.\n"
      ],
      "id": "ef72181b"
    },
    {
      "cell_type": "code",
      "metadata": {},
      "source": [
        "fig, (ax1, ax2) = plt.subplots(ncols=2, sharey=True, figsize=(9.5, 5))\n",
        "income_data = pd.read_csv('data/Income1.csv', index_col=0).rename(columns={'Education': 'Years of Education'})\n",
        "sns.scatterplot(data=income_data, x='Years of Education', y='Income', color='red', ax=ax1)\n",
        "sns.regplot(data=income_data, x='Years of Education', y='Income', ci=None, order=3, scatter_kws={'color': 'red'}, ax=ax2)"
      ],
      "id": "c8b3da79",
      "execution_count": null,
      "outputs": []
    }
  ],
  "metadata": {
    "kernelspec": {
      "name": "python3",
      "language": "python",
      "display_name": "Python 3 (ipykernel)"
    }
  },
  "nbformat": 4,
  "nbformat_minor": 5
}